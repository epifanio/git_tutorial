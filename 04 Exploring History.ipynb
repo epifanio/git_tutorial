{
 "cells": [
  {
   "cell_type": "markdown",
   "metadata": {},
   "source": [
    "<div id=\"body\">\n",
    "    <center>\n",
    "    <a href=\"03 Tracking Changes.ipynb\">  <font size=\"8\"> &lt; </font></a>\n",
    "    <a href=\"index.ipynb\">  <font size=\"8\"> Version Control with Git </font> </a>\n",
    "    <a href=\"05 Ignore Things.ipynb\">  <font size=\"8\"> &gt; </font></a>\n",
    "    </center>\n",
    "</div>"
   ]
  },
  {
   "cell_type": "markdown",
   "metadata": {},
   "source": [
    "# **Exploring History**"
   ]
  },
  {
   "cell_type": "markdown",
   "metadata": {},
   "source": [
    "## **Questions**\n",
    "\n",
    "* How can I identify old versions of files?\n",
    "\n",
    "* How do I review my changes?\n",
    "\n",
    "* How can I recover old versions of files?\n",
    "\n"
   ]
  },
  {
   "cell_type": "markdown",
   "metadata": {},
   "source": [
    "## **Objectives**\n",
    "* Explain what the HEAD of a repository is and how to use it.\n",
    "\n",
    "* Identify and use Git commit numbers.\n",
    "\n",
    "* Compare various versions of tracked files.\n",
    "\n",
    "* Restore old versions of files.\n",
    "\n",
    "---"
   ]
  },
  {
   "cell_type": "markdown",
   "metadata": {},
   "source": [
    "As we saw in the previous lesson, we can refer to commits by their identifiers. You can refer to the most recent commit of the working directory by using the identifier `HEAD`.\n",
    "\n",
    "We’ve been adding one `key:value` pair at a time to `keyval.py`, so it’s easy to track our progress by looking, so let’s do that using our `HEAD`s. Before we start, let’s make a change to `keyval.py`, adding yet another `key:value` pair so that it looks like:\n",
    "\n",
    "```python\n",
    "# istantiate a simple python dictionary\n",
    "keyvals = {'key1': 'value1',\n",
    "           'key2': 'value2',\n",
    "           'key3': 'value3',\n",
    "           'key4': 'value4'}\n",
    "```\n",
    "\n",
    "\n"
   ]
  },
  {
   "cell_type": "code",
   "execution_count": 1,
   "metadata": {},
   "outputs": [],
   "source": [
    "# Open the file keyval.py for editing and apply the changes"
   ]
  },
  {
   "cell_type": "markdown",
   "metadata": {},
   "source": [
    "Now, let's see what we get."
   ]
  },
  {
   "cell_type": "code",
   "execution_count": 2,
   "metadata": {},
   "outputs": [
    {
     "name": "stdout",
     "output_type": "stream",
     "text": [
      "/home/epinux/notebooks/git\n"
     ]
    }
   ],
   "source": [
    "pwd"
   ]
  },
  {
   "cell_type": "code",
   "execution_count": 3,
   "metadata": {},
   "outputs": [],
   "source": [
    "cd SRC"
   ]
  },
  {
   "cell_type": "code",
   "execution_count": 4,
   "metadata": {},
   "outputs": [],
   "source": [
    "git diff HEAD keyval.py"
   ]
  },
  {
   "cell_type": "markdown",
   "metadata": {},
   "source": [
    "which is the same as what you would get if you leave out `HEAD` (try it). The real goodness in all this is when you can refer to previous commits. We do that by adding `~1` (where “~” is “tilde”, pronounced [til-duh]) to refer to the commit one before `HEAD`."
   ]
  },
  {
   "cell_type": "code",
   "execution_count": 5,
   "metadata": {},
   "outputs": [
    {
     "name": "stdout",
     "output_type": "stream",
     "text": [
      "\u001b[1mdiff --git a/keyval.py b/keyval.py\u001b[m\n",
      "\u001b[1mindex 1a8d753..a25f46a 100644\u001b[m\n",
      "\u001b[1m--- a/keyval.py\u001b[m\n",
      "\u001b[1m+++ b/keyval.py\u001b[m\n",
      "\u001b[36m@@ -1,3 +1,5 @@\u001b[m\n",
      " # istantiate a simple python dictionary\u001b[m\n",
      " keyvals = {'key1': 'value1',\u001b[m\n",
      "\u001b[31m-           'key2': 'value2'}\u001b[m\n",
      "\u001b[32m+\u001b[m\u001b[32m           'key2': 'value2',\u001b[m\n",
      "\u001b[32m+\u001b[m\u001b[32m           'key3': 'value3'}\u001b[m\n",
      "\u001b[41m+\u001b[m\n"
     ]
    }
   ],
   "source": [
    "git diff HEAD~1 keyval.py"
   ]
  },
  {
   "cell_type": "markdown",
   "metadata": {},
   "source": [
    "If we want to see the differences between older commits we can use `git diff` again, but with the notation `HEAD~1`, `HEAD~2`, and so on, to refer to them:"
   ]
  },
  {
   "cell_type": "code",
   "execution_count": 6,
   "metadata": {},
   "outputs": [
    {
     "name": "stdout",
     "output_type": "stream",
     "text": [
      "\u001b[1mdiff --git a/keyval.py b/keyval.py\u001b[m\n",
      "\u001b[1mindex def0459..a25f46a 100644\u001b[m\n",
      "\u001b[1m--- a/keyval.py\u001b[m\n",
      "\u001b[1m+++ b/keyval.py\u001b[m\n",
      "\u001b[36m@@ -1,2 +1,5 @@\u001b[m\n",
      " # istantiate a simple python dictionary\u001b[m\n",
      "\u001b[31m-keyvals = {'key': 'value'}\u001b[m\n",
      "\u001b[32m+\u001b[m\u001b[32mkeyvals = {'key1': 'value1',\u001b[m\n",
      "\u001b[32m+\u001b[m\u001b[32m           'key2': 'value2',\u001b[m\n",
      "\u001b[32m+\u001b[m\u001b[32m           'key3': 'value3'}\u001b[m\n",
      "\u001b[41m+\u001b[m\n"
     ]
    }
   ],
   "source": [
    "git diff HEAD~2 keyval.py"
   ]
  },
  {
   "cell_type": "markdown",
   "metadata": {},
   "source": [
    "We could also use `git show` which shows us what changes we made at an older commit as well as the commit message, rather than the differences between a commit and our working directory that we see by using `git diff`."
   ]
  },
  {
   "cell_type": "code",
   "execution_count": 7,
   "metadata": {},
   "outputs": [
    {
     "name": "stdout",
     "output_type": "stream",
     "text": [
      "\u001b[33mcommit defbe0cc4e05327d7bb0da8b03b9a6e71a522ecb\u001b[m\n",
      "Author: Massimo Di Stefano <epiesasha@me.com>\n",
      "Date:   Sun Jun 16 18:17:57 2019 +0200\n",
      "\n",
      "    Adding a simple python dictionary\n",
      "\n",
      "\u001b[1mdiff --git a/keyval.py b/keyval.py\u001b[m\n",
      "\u001b[1mnew file mode 100644\u001b[m\n",
      "\u001b[1mindex 0000000..def0459\u001b[m\n",
      "\u001b[1m--- /dev/null\u001b[m\n",
      "\u001b[1m+++ b/keyval.py\u001b[m\n",
      "\u001b[36m@@ -0,0 +1,2 @@\u001b[m\n",
      "\u001b[32m+\u001b[m\u001b[32m# istantiate a simple python dictionary\u001b[m\n",
      "\u001b[32m+\u001b[m\u001b[32mkeyvals = {'key': 'value'}\u001b[m\n"
     ]
    }
   ],
   "source": [
    "git show HEAD~2 keyval.py"
   ]
  },
  {
   "cell_type": "markdown",
   "metadata": {},
   "source": [
    "In this way, we can build up a chain of commits. The most recent end of the chain is referred to as `HEAD`; we can refer to previous commits using the `~` notation, so `HEAD~1` means “the previous commit”, while `HEAD~123` goes back 123 commits from where we are now.\n",
    "\n",
    "**Note**: We can also refer to commits using those long strings of digits and letters that `git log` displays. These are unique IDs for the changes, and “unique” really does mean unique: every change to any set of files on any computer has a unique 40-character identifier. \n",
    "\n",
    "Example syntax: `git diff 3fc611cdb8f706e8e49e14f33e6e22d036502411 keyval.py`\n",
    "Git also allows us to use just the first few characters like:\n",
    "``git diff 3fc611 keyval.py``"
   ]
  },
  {
   "cell_type": "markdown",
   "metadata": {},
   "source": [
    "### `git checkout`\n",
    "\n",
    "<span style=\"text-decoration:underline\">All right!</span> So we can save changes to files and see what we’ve changed—now how can we restore older versions of things? Let’s suppose we change our mind about the last update to `keyval.py` ... \n",
    "\n"
   ]
  },
  {
   "cell_type": "markdown",
   "metadata": {},
   "source": [
    "`git status` now tells us that the file has been changed, but those changes haven’t been staged:"
   ]
  },
  {
   "cell_type": "code",
   "execution_count": 10,
   "metadata": {},
   "outputs": [
    {
     "name": "stdout",
     "output_type": "stream",
     "text": [
      "On branch master\n",
      "Changes not staged for commit:\n",
      "  (use \"git add <file>...\" to update what will be committed)\n",
      "  (use \"git checkout -- <file>...\" to discard changes in working directory)\n",
      "\n",
      "\t\u001b[31mmodified:   keyval.py\u001b[m\n",
      "\n",
      "Untracked files:\n",
      "  (use \"git add <file>...\" to include in what will be committed)\n",
      "\n",
      "\t\u001b[31m.ipynb_checkpoints/\u001b[m\n",
      "\n",
      "no changes added to commit (use \"git add\" and/or \"git commit -a\")\n"
     ]
    }
   ],
   "source": [
    "git status"
   ]
  },
  {
   "cell_type": "code",
   "execution_count": 11,
   "metadata": {},
   "outputs": [
    {
     "name": "stdout",
     "output_type": "stream",
     "text": [
      "# istantiate a simple python dictionary\n",
      "keyvals = {'key1': 'value1',\n",
      "           'key2': 'value2',\n",
      "           'key3': 'value3',\n",
      "           'key4': 'value4'}\n",
      "\n"
     ]
    }
   ],
   "source": [
    "cat keyval.py"
   ]
  },
  {
   "cell_type": "markdown",
   "metadata": {},
   "source": [
    "We can put things back the way they were by using git checkout:"
   ]
  },
  {
   "cell_type": "code",
   "execution_count": 12,
   "metadata": {},
   "outputs": [
    {
     "name": "stdout",
     "output_type": "stream",
     "text": [
      "# istantiate a simple python dictionary\n",
      "keyvals = {'key1': 'value1',\n",
      "           'key2': 'value2',\n",
      "           'key3': 'value3'}\n",
      "\n"
     ]
    }
   ],
   "source": [
    "git checkout HEAD keyval.py\n",
    "cat keyval.py"
   ]
  },
  {
   "cell_type": "markdown",
   "metadata": {},
   "source": [
    "As you might guess from its name, `git checkout` checks out (i.e., restores) an old version of a file. In this case, we’re telling Git that we want to recover the version of the file recorded in `HEAD`, which is the last saved commit. If we want to go back even further, we can use a commit identifier instead:"
   ]
  },
  {
   "cell_type": "code",
   "execution_count": 13,
   "metadata": {},
   "outputs": [],
   "source": [
    "git checkout HEAD~2 keyval.py "
   ]
  },
  {
   "cell_type": "code",
   "execution_count": 14,
   "metadata": {},
   "outputs": [
    {
     "name": "stdout",
     "output_type": "stream",
     "text": [
      "# istantiate a simple python dictionary\n",
      "keyvals = {'key': 'value'}\n"
     ]
    }
   ],
   "source": [
    "cat keyval.py"
   ]
  },
  {
   "cell_type": "code",
   "execution_count": 15,
   "metadata": {},
   "outputs": [
    {
     "name": "stdout",
     "output_type": "stream",
     "text": [
      "On branch master\n",
      "Changes to be committed:\n",
      "  (use \"git reset HEAD <file>...\" to unstage)\n",
      "\n",
      "\t\u001b[32mmodified:   keyval.py\u001b[m\n",
      "\n",
      "Untracked files:\n",
      "  (use \"git add <file>...\" to include in what will be committed)\n",
      "\n",
      "\t\u001b[31m.ipynb_checkpoints/\u001b[m\n",
      "\n"
     ]
    }
   ],
   "source": [
    "git status"
   ]
  },
  {
   "cell_type": "markdown",
   "metadata": {},
   "source": [
    "Notice that the changes are on the staged area. Again, we can put things back the way they were by using `git checkout`:\n"
   ]
  },
  {
   "cell_type": "code",
   "execution_count": 16,
   "metadata": {},
   "outputs": [],
   "source": [
    "git checkout HEAD keyval.py"
   ]
  },
  {
   "cell_type": "code",
   "execution_count": 17,
   "metadata": {},
   "outputs": [
    {
     "name": "stdout",
     "output_type": "stream",
     "text": [
      "# istantiate a simple python dictionary\n",
      "keyvals = {'key1': 'value1',\n",
      "           'key2': 'value2',\n",
      "           'key3': 'value3'}\n",
      "\n"
     ]
    }
   ],
   "source": [
    "cat keyval.py"
   ]
  },
  {
   "cell_type": "markdown",
   "metadata": {},
   "source": [
    "**NOTE:** be careful! The command checkout has other important functionalities and Git will misunderstand your intentions if you are not accurate with the typing. For example, if you forget `keyval.py` in the previous command."
   ]
  },
  {
   "cell_type": "code",
   "execution_count": 18,
   "metadata": {},
   "outputs": [
    {
     "name": "stdout",
     "output_type": "stream",
     "text": [
      "Note: checking out 'HEAD~2'.\n",
      "\n",
      "You are in 'detached HEAD' state. You can look around, make experimental\n",
      "changes and commit them, and you can discard any commits you make in this\n",
      "state without impacting any branches by performing another checkout.\n",
      "\n",
      "If you want to create a new branch to retain commits you create, you may\n",
      "do so (now or later) by using -b with the checkout command again. Example:\n",
      "\n",
      "  git checkout -b <new-branch-name>\n",
      "\n",
      "HEAD is now at defbe0c Adding a simple python dictionary\n"
     ]
    }
   ],
   "source": [
    "git checkout HEAD~2"
   ]
  },
  {
   "cell_type": "markdown",
   "metadata": {},
   "source": [
    "&nbsp;\n",
    "\n",
    "The “detached HEAD” is like “look, but don’t touch” here, so you shouldn’t make any changes in this state. After investigating your repo’s past state, reattach your `HEAD` with `git checkout master`."
   ]
  },
  {
   "cell_type": "code",
   "execution_count": 19,
   "metadata": {},
   "outputs": [
    {
     "name": "stdout",
     "output_type": "stream",
     "text": [
      "Previous HEAD position was defbe0c Adding a simple python dictionary\n",
      "Switched to branch 'master'\n"
     ]
    }
   ],
   "source": [
    "git checkout master"
   ]
  },
  {
   "cell_type": "code",
   "execution_count": 20,
   "metadata": {},
   "outputs": [
    {
     "name": "stdout",
     "output_type": "stream",
     "text": [
      "On branch master\n",
      "Untracked files:\n",
      "  (use \"git add <file>...\" to include in what will be committed)\n",
      "\n",
      "\t\u001b[31m.ipynb_checkpoints/\u001b[m\n",
      "\n",
      "nothing added to commit but untracked files present (use \"git add\" to track)\n"
     ]
    }
   ],
   "source": [
    "git status"
   ]
  },
  {
   "cell_type": "code",
   "execution_count": 21,
   "metadata": {},
   "outputs": [
    {
     "name": "stdout",
     "output_type": "stream",
     "text": [
      "# istantiate a simple python dictionary\n",
      "keyvals = {'key1': 'value1',\n",
      "           'key2': 'value2',\n",
      "           'key3': 'value3'}\n",
      "\n"
     ]
    }
   ],
   "source": [
    "cat keyval.py"
   ]
  },
  {
   "cell_type": "markdown",
   "metadata": {},
   "source": [
    "It’s important to remember that we must use the commit number that identifies the state of the repository before the change we’re trying to undo. A common mistake is to use the number of the commit in which we made the change we’re trying to get rid of. \n",
    "\n",
    "<img src=\"static/images/git-checkout.svg\">\n"
   ]
  },
  {
   "cell_type": "markdown",
   "metadata": {},
   "source": [
    "So, to put it all together, here’s how Git works in cartoon form:\n",
    "\n",
    "&nbsp;\n",
    "\n",
    "<img src=\"static/images/git_staging.svg\">\n"
   ]
  },
  {
   "cell_type": "markdown",
   "metadata": {},
   "source": [
    "<blockquote class=\"callout\">\n",
    "  <h2 id=\"simplifying-the-common-case\">Simplifying the Common Case</h2>\n",
    "\n",
    "  <p>If you read the output of <code class=\"highlighter-rouge\">git status</code> carefully,\n",
    "you’ll see that it includes this hint:</p>\n",
    "\n",
    "  <div class=\"language-bash highlighter-rouge\"><div class=\"highlight\"><pre class=\"highlight\"><code><span class=\"o\">(</span>use <span class=\"s2\">\"git checkout -- &lt;file&gt;...\"</span> to discard changes <span class=\"k\">in </span>working directory<span class=\"o\">)</span>\n",
    "</code></pre></div>  </div>\n",
    "\n",
    "  <p>As it says,\n",
    "<code class=\"highlighter-rouge\">git checkout</code> without a version identifier restores files to the state saved in <code class=\"highlighter-rouge\">HEAD</code>.\n",
    "The double dash <code class=\"highlighter-rouge\">--</code> is needed to separate the names of the files being recovered\n",
    "from the command itself:\n",
    "without it,\n",
    "Git would try to use the name of the file as the commit identifier.</p>\n",
    "</blockquote>"
   ]
  },
  {
   "cell_type": "markdown",
   "metadata": {},
   "source": [
    "The fact that files can be reverted one by one tends to change the way people organize their work. If everything is in one large document, it’s hard (but not impossible) to undo changes to the introduction without also undoing changes made later to the conclusion. If the introduction and conclusion are stored in separate files, on the other hand, moving backward and forward in time becomes much easier."
   ]
  },
  {
   "cell_type": "markdown",
   "metadata": {},
   "source": [
    "<blockquote class=\"challenge\">\n",
    "  <h2 id=\"recovering-older-versions-of-a-file\">Recovering Older Versions of a File</h2>\n",
    "\n",
    "    Jennifer has made changes to the Python script that she has been working on for weeks, and the\n",
    "modifications she made this morning “broke” the script and it no longer runs. She has spent\n",
    "~ 1hr trying to fix it, with no luck…\n",
    "\n",
    "Luckily, she has been keeping track of her project’s versions using Git! Which commands below will\n",
    "let her recover the last committed version of her Python script called `data_cruncher.py`?</p>\n",
    "\n",
    "1. `git checkout HEAD`\n",
    "2. `git checkout HEAD data_cruncher.py`\n",
    "3. `git checkout HEAD~1 data_cruncher.py`\n",
    "4. `git checkout <unique ID of last commit> data_cruncher.py`\n",
    "5. `Both 2 and 4`\n",
    "\n",
    "<blockquote class=\"solution\">\n",
    "  <h2 id=\"solution\">solution</h2>  \n",
    "The answer is (5)-Both 2 and 4.</p>\n",
    "The `checkout` command restores files from the repository, overwriting the files in your working directory. Answers 2 and 4 both restore the latest version in the repository of the file `data_cruncher.py`. Answer 2 uses `HEAD` to indicate the latest, whereas answer 4 uses the unique ID of the last commit, which is what `HEAD` means.\n",
    "\n",
    "Answer 3 gets the version of `data_cruncher.py` from the commit before `HEAD`, which is NOT what we wanted.\n",
    "\n",
    "Answer 1 can be dangerous! Without a filename, `git checkout` will restore **all files** in the current directory (and all directories below it) to their state at the commit specified. This command will restore `data_cruncher.py` to the latest commit version, but it will also restore any other files that are changed to that version, erasing any changes you may have made to those files! As discussed above, you are left in a detached `HEAD` state, and you don’t want to be there.\n",
    "    </blockquote>\n",
    "</blockquote>"
   ]
  },
  {
   "cell_type": "markdown",
   "metadata": {},
   "source": [
    "<blockquote class=\"challenge\">\n",
    "  <h2 id=\"reverting-a-commit\">Reverting a Commit</h2>\n",
    "\n",
    "  <p>Jennifer is collaborating on her Python script with her colleagues and\n",
    "realizes her last commit to the group repository is wrong and wants to\n",
    "undo it.  Jennifer needs to undo correctly so everyone in the group\n",
    "repository gets the correct change.  <code class=\"highlighter-rouge\">git revert [wrong commit ID]</code>\n",
    "will make a new commit that undoes Jennifer’s previous wrong\n",
    "commit. Therefore <code class=\"highlighter-rouge\">git revert</code> is different than <code class=\"highlighter-rouge\">git checkout [commit\n",
    "ID]</code> because <code class=\"highlighter-rouge\">checkout</code> is for local changes not committed to the\n",
    "group repository.  Below are the right steps and explanations for\n",
    "Jennifer to use <code class=\"highlighter-rouge\">git revert</code></p>\n",
    "\n",
    "  <ol>\n",
    "    <li>\n",
    "      <p><code class=\"highlighter-rouge\">git diff HEAD~1 </code>Look at the git history of the project to find the commit ID</p>\n",
    "    </li>\n",
    "    <li>\n",
    "      <p>Copy the ID (the first few characters of the ID, e.g. 0b1d055).</p>\n",
    "    </li>\n",
    "    <li>\n",
    "      <p><code class=\"highlighter-rouge\">git revert [commit ID]</code></p>\n",
    "    </li>\n",
    "    <li>\n",
    "      <p>Type in the new commit message.</p>\n",
    "    </li>\n",
    "    <li>\n",
    "      <p>Save and close</p>\n",
    "    </li>\n",
    "  </ol>\n",
    "</blockquote>"
   ]
  },
  {
   "cell_type": "markdown",
   "metadata": {},
   "source": [
    "<blockquote class=\"challenge\">\n",
    "  <h2 id=\"understanding-workflow-and-history\">Understanding Workflow and History</h2>\n",
    "\n",
    "  <p>What is the output of the last command in</p>\n",
    "\n",
    "   ```bash\n",
    "   mkdir doc\n",
    "   cd doc\n",
    "   echo \"# First steps with GIT \" > README.md\n",
    "   git add README.md\n",
    "   echo \"This tutorial should give you the **Git superpower**\" >> README.md\n",
    "   git commit -m \"Comment on README.md about your new superpower\"\n",
    "   git checkout HEAD README.md\n",
    "   cat README.md #this will print the contents of README.md to the screen\n",
    "   ```\n",
    "    \n",
    "&nbsp;\n",
    "    \n",
    "    \n",
    "1. `This tutorial should give you the **Git superpower**`\n",
    "2. `# First steps with GIT` \n",
    "3. `# First steps with GIT`  \n",
    "    <br>\n",
    "   This tutorial should give you the **Git superpower**\n",
    "4. Error because you have changed README.md without committing the changes\n",
    "    \n",
    "\n",
    "\n",
    "<blockquote class=\"solution\">\n",
    "    <h2 id=\"solution-1\">Solution<span class=\"fold-unfold glyphicon glyphicon-collapse-up\"></span></h2>\n",
    "\n",
    "    The answer is 2.\n",
    "\n",
    "The command `git add README.md` places the current version of `README.md` into the staging area. The changes to the file from the second `echo` command are only applied to the working copy, not the version in the staging area.\n",
    "\n",
    "So, when `git commit -m \"Comment on README.md about your new superpower\" is executed, the version of `README.md` committed to the repository is the one from the staging area and has only one line.\n",
    "\n",
    "At this time, the working copy still has the second line (and `git status` will show that the file is modified). However, `git checkout HEAD README.md` replaces the working copy with the most recently committed version of `README.md`.\n",
    "\n",
    "So, `cat README.md` will output\n",
    "\n",
    "`# First steps with GIT`\n",
    "    \n",
    "\n",
    "  </blockquote>\n",
    "</blockquote>"
   ]
  },
  {
   "cell_type": "markdown",
   "metadata": {},
   "source": [
    "<blockquote class=\"challenge\">\n",
    "  <h2 id=\"getting-rid-of-staged-changes\">Getting Rid of Staged Changes</h2>\n",
    "\n",
    "  <p><code class=\"highlighter-rouge\">git checkout</code> can be used to restore a previous commit when unstaged changes have\n",
    "been made, but will it also work for changes that have been staged but not committed?\n",
    "Make a change to <code class=\"highlighter-rouge\">keyval.py</code>, add that change, and use <code class=\"highlighter-rouge\">git checkout</code> to see if\n",
    "you can remove your change.</p>\n",
    "</blockquote>"
   ]
  },
  {
   "cell_type": "markdown",
   "metadata": {},
   "source": [
    "<blockquote class=\"challenge\">\n",
    "  <h2 id=\"explore-and-summarize-histories\">Explore and Summarize Histories</h2>\n",
    "\n",
    "  <p>Exploring history is an important part of Git, often it is a challenge to find\n",
    "the right commit ID, especially if the commit is from several months ago.</p>\n",
    "\n",
    "  <p>Imagine your project has more than 50 files.\n",
    "You would like to find a commit with specific text in <code class=\"highlighter-rouge\">keyval.py</code> is modified.\n",
    "When you type <code class=\"highlighter-rouge\">git log</code>, a very long list appeared,\n",
    "How can you narrow down the search?</p>\n",
    "\n",
    "  <p>Recall that the <code class=\"highlighter-rouge\">git diff</code> command allow us to explore one specific file,\n",
    "e.g. <code class=\"highlighter-rouge\">git diff keyval.py</code>. We can apply a similar idea here.</p>\n",
    "\n",
    "  <div class=\"language-bash highlighter-rouge\"><div class=\"highlight\"><pre class=\"highlight\"><code><span class=\"nv\">$ </span>git log keyval.py\n",
    "</code></pre></div>  </div>\n",
    "\n",
    "  <p>Unfortunately some of these commit messages are very ambiguous e.g. <code class=\"highlighter-rouge\">update files</code>.\n",
    "How can you search through these files?</p>\n",
    "\n",
    "  <p>Both <code class=\"highlighter-rouge\">git diff</code> and <code class=\"highlighter-rouge\">git log</code> are very useful and they summarize a different part of the history \n",
    "for you.\n",
    "Is it possible to combine both? Let’s try the following:</p>\n",
    "\n",
    "  <div class=\"language-bash highlighter-rouge\"><div class=\"highlight\"><pre class=\"highlight\"><code><span class=\"nv\">$ </span>git log <span class=\"nt\">--patch</span> keyval.py\n",
    "</code></pre></div>  </div>\n",
    "\n",
    "  <p>You should get a long list of output, and you should be able to see both commit messages and \n",
    "the difference between each commit.</p>\n",
    "\n",
    "  <p>Question: What does the following command do?</p>\n",
    "\n",
    "  <div class=\"language-bash highlighter-rouge\"><div class=\"highlight\"><pre class=\"highlight\"><code><span class=\"nv\">$ </span>git log <span class=\"nt\">--patch</span> HEAD~9 <span class=\"k\">*</span>.txt\n",
    "</code></pre></div>  </div>\n",
    "</blockquote>"
   ]
  },
  {
   "cell_type": "markdown",
   "metadata": {
    "toc-hr-collapsed": true
   },
   "source": [
    "<blockquote class=\"keypoints\">\n",
    "  <h2>Key Points</h2>\n",
    "    \n",
    "* `git diff` displays differences between commits.\n",
    "\n",
    "* `git checkout` recovers old versions of files.\n",
    "\n",
    "</blockquote>"
   ]
  },
  {
   "cell_type": "markdown",
   "metadata": {},
   "source": [
    "<div id=\"body\">\n",
    "    <center>\n",
    "    <a href=\"03 Tracking Changes.ipynb\">  <font size=\"4\"> &lt; </font></a>\n",
    "    <a href=\"index.ipynb\">  <font size=\"4\"> Version Control with Git </font> </a>\n",
    "    <a href=\"05 Ignore Things.ipynb\">  <font size=\"4\"> &gt; </font></a>\n",
    "    </center>\n",
    "</div>"
   ]
  }
 ],
 "metadata": {
  "kernelspec": {
   "display_name": "Bash",
   "language": "bash",
   "name": "bash"
  },
  "language_info": {
   "codemirror_mode": "shell",
   "file_extension": ".sh",
   "mimetype": "text/x-sh",
   "name": "bash"
  }
 },
 "nbformat": 4,
 "nbformat_minor": 2
}
