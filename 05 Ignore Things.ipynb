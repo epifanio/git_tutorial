{
 "cells": [
  {
   "cell_type": "markdown",
   "metadata": {},
   "source": [
    "<div id=\"body\">\n",
    "    <center>\n",
    "    <a href=\"04 Exploring History.ipynb\">  <font size=\"8\"> &lt; </font></a>\n",
    "    <a href=\"index.ipynb\">  <font size=\"8\"> Version Control with Git </font> </a>\n",
    "    <a href=\"06 Remotes in GitHub.ipynb\">  <font size=\"8\"> &gt; </font></a>\n",
    "    </center>\n",
    "</div>"
   ]
  },
  {
   "cell_type": "markdown",
   "metadata": {},
   "source": [
    "# **Ignore Things**"
   ]
  },
  {
   "cell_type": "markdown",
   "metadata": {},
   "source": [
    "## **Questions**\n",
    "* How can I tell Git to ignore files I don’t want to track?\n",
    "\n"
   ]
  },
  {
   "cell_type": "markdown",
   "metadata": {},
   "source": [
    "## **Objectives**\n",
    "* Configure Git to ignore specific files.\n",
    "* Explain why ignoring files can be useful.\n",
    "\n",
    "---"
   ]
  },
  {
   "cell_type": "markdown",
   "metadata": {},
   "source": [
    "What if we have files that we do not want Git to track for us, like backup files created by our editor or intermediate files created during data analysis? Let’s create a few dummy files:"
   ]
  },
  {
   "cell_type": "code",
   "execution_count": 1,
   "metadata": {},
   "outputs": [],
   "source": [
    "cd SRC\n",
    "mkdir results\n",
    "touch a.dat b.dat c.dat results/a.out results/b.out"
   ]
  },
  {
   "cell_type": "markdown",
   "metadata": {},
   "source": [
    "and see what Git says:"
   ]
  },
  {
   "cell_type": "code",
   "execution_count": 2,
   "metadata": {},
   "outputs": [
    {
     "name": "stdout",
     "output_type": "stream",
     "text": [
      "On branch master\n",
      "Untracked files:\n",
      "  (use \"git add <file>...\" to include in what will be committed)\n",
      "\n",
      "\t\u001b[31m.ipynb_checkpoints/\u001b[m\n",
      "\t\u001b[31ma.dat\u001b[m\n",
      "\t\u001b[31mb.dat\u001b[m\n",
      "\t\u001b[31mc.dat\u001b[m\n",
      "\t\u001b[31mresults/\u001b[m\n",
      "\n",
      "nothing added to commit but untracked files present (use \"git add\" to track)\n"
     ]
    }
   ],
   "source": [
    "git status"
   ]
  },
  {
   "cell_type": "markdown",
   "metadata": {},
   "source": [
    "Putting these files under version control would be a waste of disk space. What’s worse, having them all listed could distract us from changes that actually matter, so let’s tell Git to ignore them.\n",
    "\n",
    "We do this by creating a file in the root directory of our project called `.gitignore`:\n"
   ]
  },
  {
   "cell_type": "code",
   "execution_count": 5,
   "metadata": {},
   "outputs": [
    {
     "name": "stdout",
     "output_type": "stream",
     "text": [
      "*.dat\n",
      "results/\n"
     ]
    }
   ],
   "source": [
    "touch .gitignore\n",
    "echo \"*.dat\" > .gitignore\n",
    "echo \"results/\" >> .gitignore\n",
    "cat .gitignore"
   ]
  },
  {
   "cell_type": "markdown",
   "metadata": {},
   "source": [
    "Lets add also the `.ipynb_checkpoints/` directory:"
   ]
  },
  {
   "cell_type": "code",
   "execution_count": 6,
   "metadata": {},
   "outputs": [
    {
     "name": "stdout",
     "output_type": "stream",
     "text": [
      "*.dat\n",
      "results/\n",
      ".ipynb_checkpoints/\n"
     ]
    }
   ],
   "source": [
    "echo \".ipynb_checkpoints/\" >> .gitignore\n",
    "cat .gitignore"
   ]
  },
  {
   "cell_type": "markdown",
   "metadata": {},
   "source": [
    "These patterns tell Git to ignore any file whose name ends in `.dat` and everything in the `results` directory. (If any of these files were already being tracked, Git would continue to track them.)\n",
    "\n",
    "Once we have created this file, the output of git status is much cleaner:"
   ]
  },
  {
   "cell_type": "code",
   "execution_count": 7,
   "metadata": {},
   "outputs": [
    {
     "name": "stdout",
     "output_type": "stream",
     "text": [
      "[master b324f10] Ignore data files and the results folder.\n",
      " 1 file changed, 3 insertions(+)\n",
      " create mode 100644 .gitignore\n",
      "On branch master\n",
      "nothing to commit, working tree clean\n"
     ]
    }
   ],
   "source": [
    "git add .gitignore\n",
    "git commit -m \"Ignore data files and the results folder.\"\n",
    "git status"
   ]
  },
  {
   "cell_type": "markdown",
   "metadata": {},
   "source": [
    "As a bonus, using `.gitignore` helps us avoid accidentally adding to the repository files that we don’t want to track:"
   ]
  },
  {
   "cell_type": "code",
   "execution_count": 8,
   "metadata": {},
   "outputs": [
    {
     "name": "stdout",
     "output_type": "stream",
     "text": [
      "The following paths are ignored by one of your .gitignore files:\n",
      "a.dat\n",
      "Use -f if you really want to add them.\n"
     ]
    },
    {
     "ename": "",
     "evalue": "1",
     "execution_count": 8,
     "output_type": "error",
     "traceback": []
    }
   ],
   "source": [
    "git add a.dat"
   ]
  },
  {
   "cell_type": "markdown",
   "metadata": {},
   "source": [
    "If we really want to override our ignore settings, we can use `git add -f` to force Git to add something. For example, `git add -f a.dat`. We can also always see the status of ignored files if we want:\n",
    "\n"
   ]
  },
  {
   "cell_type": "code",
   "execution_count": 9,
   "metadata": {},
   "outputs": [
    {
     "name": "stdout",
     "output_type": "stream",
     "text": [
      "On branch master\n",
      "Ignored files:\n",
      "  (use \"git add -f <file>...\" to include in what will be committed)\n",
      "\n",
      "\t\u001b[31m.ipynb_checkpoints/\u001b[m\n",
      "\t\u001b[31ma.dat\u001b[m\n",
      "\t\u001b[31mb.dat\u001b[m\n",
      "\t\u001b[31mc.dat\u001b[m\n",
      "\t\u001b[31mresults/\u001b[m\n",
      "\n",
      "nothing to commit, working tree clean\n"
     ]
    }
   ],
   "source": [
    "git status --ignored"
   ]
  },
  {
   "cell_type": "markdown",
   "metadata": {},
   "source": [
    "<blockquote class=\"note\">\n",
    "  <h2>Including Specific Files</h2>\n",
    "    \n",
    "* To ignore all `.dat` files in your root directory except for the file `final.dat`, you would add the following two lines to your .gitignore:\n",
    "\n",
    "&nbsp;\n",
    "   ```bash\n",
    "   *.dat           # ignore all data files\n",
    "   !final.dat      # except final.data\n",
    "   ```\n",
    "&nbsp;\n",
    "    \n",
    "   The exclamation point operator `!` will include a previously excluded entry.\n",
    "\n",
    "* Given a directory structure that looks similar to the earlier Nested Files example, but with a slightly different directory structure:\n",
    "\n",
    "&nbsp;\n",
    "   ```\n",
    "   results/data\n",
    "   results/images\n",
    "   results/plots\n",
    "   results/analysis\n",
    "   ```\n",
    "&nbsp;\n",
    "    \n",
    "   If you want to ignore the contents of `results/` but not those of `results/data/`, you can change your `.gitignore` to ignore the contents of `results` folder, but create an exception for the contents of the `results/data` subfolder. Your `.gitignore` would look like this:\n",
    "    \n",
    "&nbsp;\n",
    "    \n",
    "   ```\n",
    "   results/*               # ignore everything in results folder\n",
    "   !results/data/          # do not ignore results/data/ contents\n",
    "   ```\n",
    "    \n",
    "</blockquote>"
   ]
  },
  {
   "cell_type": "markdown",
   "metadata": {},
   "source": [
    "<blockquote class=\"keypoints\">\n",
    "  <h2>Key Points</h2>\n",
    "    \n",
    "* The `.gitignore` file tells Git what files to ignore.\n",
    "\n",
    "</blockquote>"
   ]
  },
  {
   "cell_type": "markdown",
   "metadata": {},
   "source": [
    "---\n",
    "\n",
    "**Resources:** [A collection of useful `.gitignore` templates](https://github.com/github/gitignore)"
   ]
  },
  {
   "cell_type": "markdown",
   "metadata": {},
   "source": [
    "<div id=\"body\">\n",
    "    <center>\n",
    "    <a href=\"04 Exploring History.ipynb\">  <font size=\"4\"> &lt; </font></a>\n",
    "    <a href=\"index.ipynb\">  <font size=\"4\"> Version Control with Git </font> </a>\n",
    "    <a href=\"06 Remotes in GitHub.ipynb\">  <font size=\"4\"> &gt; </font></a>\n",
    "    </center>\n",
    "</div>"
   ]
  }
 ],
 "metadata": {
  "kernelspec": {
   "display_name": "Bash",
   "language": "bash",
   "name": "bash"
  },
  "language_info": {
   "codemirror_mode": "shell",
   "file_extension": ".sh",
   "mimetype": "text/x-sh",
   "name": "bash"
  }
 },
 "nbformat": 4,
 "nbformat_minor": 2
}
