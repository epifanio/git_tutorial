{
 "cells": [
  {
   "cell_type": "markdown",
   "metadata": {},
   "source": [
    "<div id=\"body\">\n",
    "    <center>\n",
    "    <a href=\"01 Setting up Git.ipynb\">  <font size=\"8\"> &lt; </font></a>\n",
    "    <a href=\"index.ipynb\">  <font size=\"8\"> Version Control with Git </font> </a>\n",
    "    <a href=\"03 Tracking Changes.ipynb\">  <font size=\"8\"> &gt; </font></a>\n",
    "    </center>\n",
    "</div>"
   ]
  },
  {
   "cell_type": "markdown",
   "metadata": {},
   "source": [
    "# **Creating a Repository**"
   ]
  },
  {
   "cell_type": "markdown",
   "metadata": {},
   "source": [
    "## **Questions**\n",
    "* Where does Git store information?"
   ]
  },
  {
   "cell_type": "markdown",
   "metadata": {},
   "source": [
    "## **Objectives**\n",
    "* Create a local Git repository.\n",
    "\n",
    "---"
   ]
  },
  {
   "cell_type": "markdown",
   "metadata": {},
   "source": [
    "Once Git is configured, we can start using it.\n",
    "\n",
    "* First, let’s **create a directory** where to store our source files, and then **move into** that directory:\n",
    "\n",
    "   ```bash\n",
    "   mkdir SRC\n",
    "   cd SRC\n",
    "   ```\n"
   ]
  },
  {
   "cell_type": "markdown",
   "metadata": {},
   "source": [
    "\n",
    "* Then we tell Git to make **`SRC`** a repository--a place where Git can store versions of our files:\n",
    "\n",
    "   ```bash \n",
    "   git init\n",
    "   ```\n",
    "\n",
    "It is important to note that `git init` will create a repository that includes subdirectories and their files—there is no need to create separate repositories nested within the `SRC` repository, whether subdirectories are present from the beginning or added later. Also, note that the creation of the `SRC` directory and its initialization as a repository are completely separate processes.\n"
   ]
  },
  {
   "cell_type": "markdown",
   "metadata": {},
   "source": [
    "**What just happened?**\n",
    "\n",
    "The command `git init` has created a hidden directory within `SRC` called .git, where all the *git related files* are stored:\n",
    "\n",
    "   ```bash\n",
    "   ls -a\n",
    "   .    ..    .git\n",
    "   ```\n",
    "\n",
    "Git uses this special sub-directory to store all the information about the project, including all files and sub-directories located within the project’s directory. If we ever delete the .git sub-directory, we will lose the project’s history.\n",
    "\n",
    "We can **check that everything is set up correctly** by asking Git to tell us the status of our project:\n",
    "\n",
    "   ```bash\n",
    "   git status\n",
    "\n",
    "   # On branch master\n",
    "   #\n",
    "   # Initial commit\n",
    "   #\n",
    "   nothing to commit (create/copy files and use \"git add\" to track)\n",
    "   ```\n",
    "\n",
    "Otherwise, the same command in a non-git repository will return:\n",
    "\n",
    "   ```bash\n",
    "   git status\n",
    "   fatal: Not a git repository (or any of the parent directories): .git\n",
    "   ```"
   ]
  },
  {
   "cell_type": "markdown",
   "metadata": {},
   "source": [
    "---\n",
    "<blockquote class=\"keypoints\">\n",
    "  <h2>Key Points</h2>\n",
    "\n",
    "* `git init` initializes a repository.\n",
    "\n",
    "* Git stores all of its repository data in the `.git` directory.\n",
    "</blockquote>\n",
    "\n"
   ]
  },
  {
   "cell_type": "markdown",
   "metadata": {},
   "source": [
    "---\n",
    "\n",
    "* Let's create a directory `SRC` snd initiate it as a `GIT` repository:"
   ]
  },
  {
   "cell_type": "code",
   "execution_count": 2,
   "metadata": {},
   "outputs": [
    {
     "name": "stdout",
     "output_type": "stream",
     "text": [
      "/home/epinux/PycharmProjects/git_tutorial\n"
     ]
    }
   ],
   "source": [
    "pwd"
   ]
  },
  {
   "cell_type": "code",
   "execution_count": 3,
   "metadata": {},
   "outputs": [
    {
     "name": "stdout",
     "output_type": "stream",
     "text": [
      "Initialized empty Git repository in /home/epinux/PycharmProjects/git_tutorial/SRC/.git/\n"
     ]
    }
   ],
   "source": [
    "mkdir SRC\n",
    "cd SRC\n",
    "git init\n",
    "cd .."
   ]
  },
  {
   "cell_type": "markdown",
   "metadata": {},
   "source": [
    "<div id=\"body\">\n",
    "    <center>\n",
    "    <a href=\"01 Setting up Git.ipynb\">  <font size=\"4\"> &lt; </font></a>\n",
    "    <a href=\"index.ipynb\">  <font size=\"4\"> Version Control with Git </font> </a>\n",
    "    <a href=\"03 Tracking Changes.ipynb\">  <font size=\"4\"> &gt; </font></a>\n",
    "    </center>\n",
    "</div>"
   ]
  }
 ],
 "metadata": {
  "kernelspec": {
   "display_name": "Bash",
   "language": "bash",
   "name": "bash"
  },
  "language_info": {
   "codemirror_mode": "shell",
   "file_extension": ".sh",
   "mimetype": "text/x-sh",
   "name": "bash"
  }
 },
 "nbformat": 4,
 "nbformat_minor": 2
}
