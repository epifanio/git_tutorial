{
 "cells": [
  {
   "cell_type": "markdown",
   "metadata": {},
   "source": [
    "<div id=\"body\">\n",
    "    <center>\n",
    "    <a href=\"07 Collaborating.ipynb\">  <font size=\"8\"> &lt; </font></a>\n",
    "    <a href=\"index.ipynb\">  <font size=\"8\"> Version Control with Git </font> </a>\n",
    "    <a href=\"09 Git Tips.ipynb\">  <font size=\"8\"> &gt; </font></a>\n",
    "    </center>\n",
    "</div>"
   ]
  },
  {
   "cell_type": "markdown",
   "metadata": {},
   "source": [
    "# **Conflicts**"
   ]
  },
  {
   "cell_type": "markdown",
   "metadata": {},
   "source": [
    "## **Questions**\n",
    "\n",
    "* What do I do when my changes conflict with someone else’s?"
   ]
  },
  {
   "cell_type": "markdown",
   "metadata": {},
   "source": [
    "## **Objectives**\n",
    "\n",
    "* Explain what conflicts are and when they can occur.\n",
    "* Resolve conflicts resulting from a merge."
   ]
  },
  {
   "cell_type": "markdown",
   "metadata": {},
   "source": [
    "As soon as people can work in parallel, they’ll likely step on each other’s toes. This will even happen with a single person: if we are working on a piece of software on both our laptop and a server in the lab, we could make different changes to each copy. Version control helps us manage these conflicts by giving us tools to resolve overlapping changes.\n",
    "\n",
    "To see how we can resolve conflicts, we must first create one. The file `keyval.py` currently looks like this in both partners’ copies of our `git_tutorial` repository:\n",
    "\n"
   ]
  },
  {
   "cell_type": "code",
   "execution_count": 2,
   "metadata": {},
   "outputs": [
    {
     "name": "stdout",
     "output_type": "stream",
     "text": [
      "# istantiate a simple python dictionary\n",
      "keyvals = {'key1': 'value1',\n",
      "           'key2': 'value2',\n",
      "           'key3': 'value3'}\n",
      "\n",
      "\n"
     ]
    }
   ],
   "source": [
    "cd ~/Desktop/epinux-git_tutorial\n",
    "cat keyval.py"
   ]
  },
  {
   "cell_type": "markdown",
   "metadata": {},
   "source": [
    "Let’s add a line to one partner’s copy only:"
   ]
  },
  {
   "cell_type": "code",
   "execution_count": 4,
   "metadata": {},
   "outputs": [],
   "source": [
    "echo \"# this is a friendly comment to create a conflict with the origin\" >> ~/Desktop/epinux-git_tutorial/keyval.py"
   ]
  },
  {
   "cell_type": "code",
   "execution_count": 5,
   "metadata": {},
   "outputs": [
    {
     "name": "stdout",
     "output_type": "stream",
     "text": [
      "# istantiate a simple python dictionary\n",
      "keyvals = {'key1': 'value1',\n",
      "           'key2': 'value2',\n",
      "           'key3': 'value3'}\n",
      "\n",
      "\n",
      "# this is a friendly comment to create a conflict with the origin\n"
     ]
    }
   ],
   "source": [
    "cat keyval.py"
   ]
  },
  {
   "cell_type": "markdown",
   "metadata": {},
   "source": [
    "Add the changes in the staging, then commit and finally push the change to GitHub:"
   ]
  },
  {
   "cell_type": "code",
   "execution_count": 6,
   "metadata": {},
   "outputs": [
    {
     "name": "stdout",
     "output_type": "stream",
     "text": [
      "[master 0751f68] Add a line in our home copy\n",
      " 1 file changed, 1 insertion(+)\n"
     ]
    }
   ],
   "source": [
    "git add keyval.py\n",
    "git commit -m \"Add a line in our home copy\""
   ]
  },
  {
   "cell_type": "code",
   "execution_count": 9,
   "metadata": {},
   "outputs": [],
   "source": [
    "# git push origin master"
   ]
  },
  {
   "cell_type": "markdown",
   "metadata": {},
   "source": [
    "**Note:** To run the command above, you may need to issue an username and a password. to do so in a jupyter environment you should use a terminal.\n",
    "\n",
    "```bash\n",
    "Enumerating objects: 5, done.\n",
    "Counting objects: 100% (5/5), done.\n",
    "Delta compression using up to 8 threads\n",
    "Compressing objects: 100% (3/3), done.\n",
    "Writing objects: 100% (3/3), 331 bytes | 331.00 KiB/s, done.\n",
    "Total 3 (delta 2), reused 0 (delta 0)\n",
    "remote: Resolving deltas: 100% (2/2), completed with 2 local objects.\n",
    "To https://github.com/epinux/git_tutorial.git\n",
    "   29aba7c..dabb4c8  master -> master\n",
    "```"
   ]
  },
  {
   "cell_type": "markdown",
   "metadata": {},
   "source": [
    "Now let’s have the other partner make a different change to their copy without updating from GitHub:\n",
    "\n",
    "```bash\n",
    "echo \"# this is a change made by the contributor \\\n",
    "      # who forked the main repo before last commit \\\n",
    "      # was made to the file he is going to modify\" >> ~/Desktop/epinux-git_tutorial/keyval.py\n",
    "```\n",
    "\n",
    "We can commit the change locally:\n",
    "\n",
    "```bash\n",
    "git add mars.txt\n",
    "git commit -m \"Add a line in my copy\"\n",
    "```\n",
    "\n",
    "but Git won’t let us push it to GitHub:\n",
    "\n",
    "```bash\n",
    "git push origin master\n",
    "```\n",
    "and will return the following error:\n",
    "\n",
    "```bash\n",
    "To https://github.com/epinux/git_tutorial.git\n",
    " ! [rejected]        master -> master (fetch first)\n",
    "error: failed to push some refs to 'https://github.com/epinux/git_tutorial.git'\n",
    "hint: Updates were rejected because the remote contains work that you do\n",
    "hint: not have locally. This is usually caused by another repository pushing\n",
    "hint: to the same ref. You may want to first integrate the remote changes\n",
    "hint: (e.g., 'git pull ...') before pushing again.\n",
    "hint: See the 'Note about fast-forwards' in 'git push --help' for details.\n",
    "```\n",
    "\n",
    "<img src=\"static/images/conflict.svg\">\n"
   ]
  },
  {
   "cell_type": "markdown",
   "metadata": {},
   "source": [
    "Git rejects the push because it detects that the remote repository has new updates that have not been incorporated into the local branch. What we have to do is pull the changes from GitHub, [merge](https://swcarpentry.github.io/reference.html#merge) them into the copy we’re currently working in, and then push that. Let’s start by pulling:\n",
    "\n",
    "\n",
    "```bash\n",
    "git pull origin master\n",
    "```\n",
    "\n",
    "\n",
    "Which will return:\n",
    "\n",
    "```bash\n",
    "remote: Enumerating objects: 5, done.\n",
    "remote: Counting objects: 100% (5/5), done.\n",
    "remote: Compressing objects: 100% (1/1), done.\n",
    "remote: Total 3 (delta 2), reused 3 (delta 2), pack-reused 0\n",
    "Unpacking objects: 100% (3/3), done.\n",
    "From https://github.com/epinux/git_tutorial\n",
    " * branch            master     -> FETCH_HEAD\n",
    "    29aba7c..dabb4c8  master     -> origin/master\n",
    "Auto-merging keyval.py\n",
    "CONFLICT (content): Merge conflict in keyval.py\n",
    "Automatic merge failed; fix conflicts and then commit the result.\n",
    "```"
   ]
  },
  {
   "cell_type": "markdown",
   "metadata": {},
   "source": [
    "The `git pull` command updates the local repository to include those changes already included in the remote repository. After the changes from remote branch have been fetched, Git detects that changes made to the local copy overlap with those made to the remote repository, and therefore refuses to merge the two versions to stop us from trampling on our previous work. The conflict is marked in in the affected file:\n",
    "\n",
    "```bash\n",
    "cat keyval.py\n",
    "```\n",
    "Will include the two changes in conflit:\n",
    "\n",
    "```bash\n",
    "```\n",
    "\n",
    "Our change is preceded by `<<<<<<< HEAD`. Git has then inserted `=======` as a separator between the conflicting changes and marked the end of the content downloaded from GitHub with `>>>>>>>`. (The string of letters and digits after that marker identifies the commit we’ve just downloaded.)\n",
    "\n",
    "It is now up to us to edit this file to remove these markers and reconcile the changes. We can do anything we want: keep the change made in the local repository, keep the change made in the remote repository, write something new to replace both, or get rid of the change entirely. "
   ]
  },
  {
   "cell_type": "markdown",
   "metadata": {},
   "source": [
    "To finish merging, we add `keyval.py` to the changes being made by the merge and then commit:\n",
    "\n",
    "```bash\n",
    "git add keyval.py\n",
    "git status\n",
    "\n",
    "\n",
    "On branch master\n",
    "All conflicts fixed but you are still merging.\n",
    "  (use \"git commit\" to conclude merge)\n",
    "\n",
    "Changes to be committed:\n",
    "\n",
    "    modified:   keyval.py\n",
    "\n",
    "\n",
    "git commit -m \"Merge changes from GitHub\"\n",
    "\n",
    "\n",
    "[master 2abf2b1] Merge changes from GitHub\n",
    "\n",
    "```\n",
    "\n",
    "Now we can push our changes to GitHub:\n",
    "\n",
    "```bash\n",
    "git push origin master\n",
    "\n",
    "Enumerating objects: 10, done.\n",
    "Counting objects: 100% (10/10), done.\n",
    "Delta compression using up to 8 threads\n",
    "Compressing objects: 100% (6/6), done.\n",
    "Writing objects: 100% (6/6), 645 bytes | 645.00 KiB/s, done.\n",
    "Total 6 (delta 4), reused 0 (delta 0)\n",
    "remote: Resolving deltas: 100% (4/4), completed with 2 local objects.\n",
    "To https://github.com/epinux/git_tutorial.git\n",
    "   dabb4c8..2abf2b1  master -> master\n",
    "   \n",
    "```\n",
    "\n",
    "Git keeps track of what we’ve merged with what, so we don’t have to fix things by hand again when the collaborator who made the first change pulls again:\n",
    "\n",
    "```bash\n",
    "git pull origin master\n",
    "\n",
    "\n",
    "remote: Enumerating objects: 10, done.\n",
    "remote: Counting objects: 100% (10/10), done.\n",
    "remote: Compressing objects: 100% (2/2), done.\n",
    "remote: Total 6 (delta 4), reused 6 (delta 4), pack-reused 0\n",
    "Unpacking objects: 100% (6/6), done.\n",
    "From https://github.com/epinux/git_tutorial\n",
    " * branch            master     -> FETCH_HEAD\n",
    "    dabb4c8..2abf2b1  master     -> origin/master\n",
    "Updating dabb4c8..2abf2b1\n",
    "Fast-forward\n",
    " keyval.py | 2 +-\n",
    " 1 file changed, 1 insertion(+), 1 deletion(-)\n",
    "```\n",
    "\n",
    "We get the merged file!\n",
    "\n",
    "**Note:** The merging is possible for the collaborator because (as collaborator) he has the rights to merge. In case of a forked repository, a different system is used: **Pull Request**"
   ]
  },
  {
   "cell_type": "markdown",
   "metadata": {},
   "source": [
    "We don’t need to merge again because Git knows someone has already done that.\n",
    "\n",
    "Git’s ability to resolve conflicts is very useful, but conflict resolution costs time and effort, and can introduce errors if conflicts are not resolved correctly. If you find yourself resolving a lot of conflicts in a project, consider these technical approaches to reducing them:\n",
    "\n",
    "* Pull from upstream more frequently, especially before starting new work\n",
    "* Use topic branches to segregate work, merging to master when complete\n",
    "* Make smaller more atomic commits\n",
    "* Where logically appropriate, break large files into smaller ones so that it is less likely that two authors will alter the same file simultaneously\n",
    "\n",
    "Conflicts can also be minimized with project management strategies:\n",
    "\n",
    "* Clarify who is responsible for what areas with your collaborators\n",
    "* Discuss what order tasks should be carried out in with your collaborators so that tasks expected to change the same lines won’t be worked on simultaneously\n",
    "* If the conflicts are stylistic churn (e.g. tabs vs. spaces), establish a project convention that is governing and use code style tools (e.g. `htmltidy`, `perltidy`, `rubocop`, etc.) to enforce, if necessary\n"
   ]
  },
  {
   "cell_type": "markdown",
   "metadata": {},
   "source": [
    "<blockquote class=\"note\">\n",
    "  <h2>A Typical Work Session</h2>\n",
    "You sit down at your computer to work on a shared project that is tracked in a remote Git repository. During your work session, you take the following actions, but not in this order:\n",
    "\n",
    "* Make changes by appending the number 100 to a text file numbers.txt\n",
    "* Update remote repository to match the local repository\n",
    "* Celebrate your success with beer(s)\n",
    "* Update local repository to match the remote repository\n",
    "* Stage changes to be committed\n",
    "* Commit changes to the local repository\n",
    "\n",
    "In what order should you perform these actions to minimize the chances of conflicts? \n",
    "\n",
    "Solution:\n",
    "\n",
    "* The commands above in order in the action column of the table below.  \n",
    "* The corresponding commands in the command column.\n",
    "    \n",
    "\n",
    "|order|action . . . . . .|command . . . . . . . . . . . . . . . . . . .|\n",
    "|-----|------------------|---------------------------------------------|\n",
    "|1|Update local|`git pull origin master`|\n",
    "|2|Make changes|`echo 100 >> numbers.txt`|\n",
    "|3|Stage changes|`git add numbers.txt`|\n",
    "|4|Commit changes|`git commit -m \"Add 100 to numbers.txt\"`|\n",
    "|5|Update remote|`git push origin master`|\n",
    "|6|Celebrate!|`AFK`|\n",
    "</blockquote>"
   ]
  },
  {
   "cell_type": "markdown",
   "metadata": {},
   "source": [
    "<blockquote class=\"Key Points\">\n",
    "  <h2>Key Points</h2>\n",
    "  \n",
    "* Conflicts occur when two or more people change the same lines of the same file.\n",
    "* The version control system does not allow people to overwrite each other’s changes blindly, but highlights conflicts so that they can be resolved.\n",
    "</blockquote>"
   ]
  },
  {
   "cell_type": "markdown",
   "metadata": {},
   "source": [
    "<head>\n",
    "<style>\n",
    "table {\n",
    "  font-family: arial, sans-serif;\n",
    "  border-collapse: collapse;\n",
    "  width: 100%;\n",
    "}\n",
    "\n",
    "td, th {\n",
    "  border: 1px solid #dddddd;\n",
    "  text-align: left;\n",
    "  padding: 8px;\n",
    "}\n",
    "\n",
    "tr:nth-child(even) {\n",
    "  background-color: #dddddd;\n",
    "}\n",
    "</style>\n",
    "</head>\n",
    "<body>\n",
    "<table>\n",
    "  <tr>\n",
    "    <th>Order</th>\n",
    "    <th>Action</th>\n",
    "    <th>Command</th>\n",
    "  </tr>\n",
    "  <tr>\n",
    "    <td>1</td>\n",
    "    <td>Update local</td>\n",
    "    <td>git pull origin master</td>\n",
    "  </tr>\n",
    "  <tr>\n",
    "    <td>2</td>\n",
    "    <td>Make changes</td>\n",
    "    <td>echo 100 >> numbers.txt</td>\n",
    "  </tr>\n",
    "  <tr>\n",
    "    <td>3</td>\n",
    "    <td>Stage changes</td>\n",
    "    <td>git add numbers.txt</td>\n",
    "  </tr>\n",
    "  <tr>\n",
    "    <td>4</td>\n",
    "    <td>Commit changes</td>\n",
    "    <td>git commit -m \"Add 100 to numbers.txt\"</td>\n",
    "  </tr>\n",
    "  <tr>\n",
    "    <td>5</td>\n",
    "    <td>Update remote</td>\n",
    "    <td>git push origin master</td>\n",
    "  </tr>\n",
    "  <tr>\n",
    "    <td>6</td>\n",
    "    <td>Celebrate!</td>\n",
    "    <td>AFK</td>\n",
    "  </tr>\n",
    "</table>\n",
    "\n",
    "</body>"
   ]
  },
  {
   "cell_type": "code",
   "execution_count": null,
   "metadata": {},
   "outputs": [],
   "source": []
  }
 ],
 "metadata": {
  "kernelspec": {
   "display_name": "Bash",
   "language": "bash",
   "name": "bash"
  },
  "language_info": {
   "codemirror_mode": "shell",
   "file_extension": ".sh",
   "mimetype": "text/x-sh",
   "name": "bash"
  }
 },
 "nbformat": 4,
 "nbformat_minor": 2
}
