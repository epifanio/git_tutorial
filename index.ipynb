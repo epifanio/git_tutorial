{
 "cells": [
  {
   "cell_type": "markdown",
   "metadata": {},
   "source": [
    "# Version Control with Git\n"
   ]
  },
  {
   "cell_type": "markdown",
   "metadata": {},
   "source": [
    "* <a href=\"00 Intro.ipynb\"><font size=\"4\">00 Intro</font></a>     \n",
    "* <a href=\"01 Setting up Git.ipynb\"><font size=\"4\">01 Setting up Git</font></a>   \n",
    "* <a href=\"02 Create Repository.ipynb\"><font size=\"4\">02 Create Repository</font></a>\n",
    "* <a href=\"03 Tracking Changes.ipynb\"><font size=\"4\">03 Tracking Changes</font></a>\n",
    "* <a href=\"04 Exploring History.ipynb\"><font size=\"4\">04 Exploring History</font></a>\n",
    "* <a href=\"05 Ignore Things.ipynb\"><font size=\"4\">05 Ignore Things</font></a>\n",
    "* <a href=\"06 Remotes in GitHub.ipynb\"><font size=\"4\">06 Remotes in GitHub</font></a>\n",
    "* <a href=\"07 Collaborating.ipynb\"><font size=\"4\">07 Collaborating</font></a>\n",
    "* <a href=\"08 Conflicts.ipynb\"><font size=\"4\">08 Conflicts</font></a>\n",
    "* <a href=\"09 Git Tips.ipynb\"><font size=\"4\">09 Git Tips</font></a>\n"
   ]
  }
 ],
 "metadata": {
  "kernelspec": {
   "display_name": "Bash",
   "language": "bash",
   "name": "bash"
  },
  "language_info": {
   "codemirror_mode": "shell",
   "file_extension": ".sh",
   "mimetype": "text/x-sh",
   "name": "bash"
  }
 },
 "nbformat": 4,
 "nbformat_minor": 2
}
