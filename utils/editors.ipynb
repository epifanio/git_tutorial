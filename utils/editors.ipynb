{
 "cells": [
  {
   "cell_type": "markdown",
   "metadata": {},
   "source": [
    "# [**<Center>Version Control with Git</Center>**]()\n",
    "\n",
    "## **Common Editors setup**"
   ]
  },
  {
   "cell_type": "markdown",
   "metadata": {},
   "source": [
    "\n",
    "\n",
    "| **Editor** | **Configuration command**   |\n",
    "|------|------|\n",
    "| **Atom** | `bash git config --global core.editor \"atom --wait\"`|\n",
    "|**nano**| `git config --global core.editor \"nano -w\"`|\n",
    "|**BBEdit (Mac, with command line tools)**| `git config --global core.editor \"bbedit -w\"`|\n",
    "|**Sublime Text (Mac)**| `git config --global core.editor \"/Applications/Sublime\\ Text.app/Contents/SharedSupport/bin/subl -n -w\"`|\n",
    "|**Sublime Text (Win, 32-bit install)**| `git config --global core.editor \"'c:/program files (x86)/sublime text 3/sublime_text.exe' -w\"`|\n",
    "|**Sublime Text (Win, 64-bit install)**| `git config --global core.editor \"'c:/program files/sublime text 3/sublime_text.exe' -w\"`|\n",
    "|**Notepad++ (Win, 32-bit install)**| `git config --global core.editor \"'c:/program files (x86)/Notepad++/notepad++.exe' -multiInst -notabbar -nosession -noPlugin\"`|\n",
    "|**Notepad++ (Win, 64-bit install)**| `git config --global core.editor \"'c:/program files/Notepad++/notepad++.exe' -multiInst -notabbar -nosession -noPlugin\"`|\n",
    "|**Kate (Linux)**| `git config --global core.editor \"kate\"`|\n",
    "|**Gedit (Linux)**| `git config --global core.editor \"gedit --wait --new-window\"`|\n",
    "|**Scratch (Linux)**| `git config --global core.editor \"scratch-text-editor\"`|\n",
    "|**Emacs**| `git config --global core.editor \"emacs\"`|\n",
    "|**Vim**| `git config --global core.editor \"vim\"`|\n",
    "|**VS Code**| `git config --global core.editor \"code --wait\"`|"
   ]
  }
 ],
 "metadata": {
  "kernelspec": {
   "display_name": "Python 3",
   "language": "python",
   "name": "python3"
  },
  "language_info": {
   "codemirror_mode": {
    "name": "ipython",
    "version": 3
   },
   "file_extension": ".py",
   "mimetype": "text/x-python",
   "name": "python",
   "nbconvert_exporter": "python",
   "pygments_lexer": "ipython3",
   "version": "3.7.3"
  }
 },
 "nbformat": 4,
 "nbformat_minor": 2
}
