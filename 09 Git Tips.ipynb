{
 "cells": [
  {
   "cell_type": "markdown",
   "metadata": {},
   "source": [
    "<div id=\"body\">\n",
    "    <center>\n",
    "    <a href=\"08 Conflicts.ipynb\">  <font size=\"8\"> &lt </font></a>\n",
    "    <a href=\"index.ipynb\">  <font size=\"8\"> Version Control with Git </font> </a>\n",
    "    <font size=\"8\"> &gt </font>\n",
    "    </center>\n",
    "</div>"
   ]
  },
  {
   "cell_type": "markdown",
   "metadata": {},
   "source": [
    "# **Notes on the use of GIT and GitHub**"
   ]
  },
  {
   "cell_type": "markdown",
   "metadata": {
    "toc-hr-collapsed": false
   },
   "source": [
    "## **One time only**"
   ]
  },
  {
   "cell_type": "markdown",
   "metadata": {},
   "source": [
    "### **Fork**\n",
    "\n",
    "First ​fork the ORG/repository in the GitHub UI to your_GH_account. This is the same as what GitHub documentation suggests. See: ​[Fork a repo](https://help.github.com/en/articles/fork-a-repo) and [​Syncing a fork](https://help.github.com/en/articles/syncing-a-fork) in GitHub help.\n",
    "\n",
    "Note: add SSH key, see ​[GitHub documentation](https://help.github.com/en/articles/connecting-to-github-with-ssh)."
   ]
  },
  {
   "cell_type": "markdown",
   "metadata": {},
   "source": [
    "\n",
    "#### **Origin**\n",
    "\n",
    "```bash\n",
    "# \"origin\" points to your fork repo (e.g. forked from git@github.com:org/repository.git) - IMPORTANT\n",
    "git clone git@github.com:your_GH_account/repository.git\n",
    "```"
   ]
  },
  {
   "cell_type": "markdown",
   "metadata": {},
   "source": [
    "### **Remote**\n",
    "```bash\n",
    "# add \"upstream\" remote\n",
    "cd repository/\n",
    "git remote add upstream git@github.com:org/repository.git\n",
    "\n",
    "git remote -v\n",
    "# you should see something like\n",
    "origin\t  git@github.com:your_GH_account/repository.git (fetch)\n",
    "origin\t  git@github.com:your_GH_account/repository.git (push)\n",
    "upstream  git@github.com:org/repository.git (fetch)\n",
    "upstream  git@github.com:org/repository.git (push)\n",
    "```"
   ]
  },
  {
   "cell_type": "markdown",
   "metadata": {
    "toc-hr-collapsed": false
   },
   "source": [
    "## **Working with git**:\n",
    "\n"
   ]
  },
  {
   "cell_type": "markdown",
   "metadata": {},
   "source": [
    "### Editing\n",
    "```bash\n",
    "# <make local source code changes>\n",
    "vim ...\n",
    "```\n"
   ]
  },
  {
   "cell_type": "markdown",
   "metadata": {},
   "source": [
    "\n",
    "### `git fetch`\n",
    "```bash\n",
    "# fetch all branches from all remotes\n",
    "git fetch --all\n",
    "```\n"
   ]
  },
  {
   "cell_type": "markdown",
   "metadata": {},
   "source": [
    "\n",
    "### `git branch`\n",
    "```bash\n",
    "# list existing branches\n",
    "git branch -a\n",
    "```\n"
   ]
  },
  {
   "cell_type": "markdown",
   "metadata": {},
   "source": [
    "\n",
    "### `git checkout`\n",
    "```bash\n",
    "# create new local branch (pick a new name for feature_branch_name)\n",
    "git checkout -b feature_branch_name\n",
    "```\n"
   ]
  },
  {
   "cell_type": "markdown",
   "metadata": {},
   "source": [
    "\n",
    "### `git status`\n",
    "```bash\n",
    "# list local changes\n",
    "git status\n",
    "```\n"
   ]
  },
  {
   "cell_type": "markdown",
   "metadata": {},
   "source": [
    "\n",
    "### `git add`\n",
    "```bash\n",
    "# add files and/or changes into the repository\n",
    "git add file1.c file2.py ...\n",
    "```\n"
   ]
  },
  {
   "cell_type": "markdown",
   "metadata": {},
   "source": [
    "### `git commit`\n",
    "```bash\n",
    "# commit\n",
    "git commit -m 'my change with reasonable explanation...'\n",
    "```"
   ]
  },
  {
   "cell_type": "markdown",
   "metadata": {},
   "source": [
    "### `git push`\n",
    "```bash\n",
    "# push feature branch to origin, i.e. your fork of the org/repository repo\n",
    "git push origin feature_branch_name\n",
    "```"
   ]
  },
  {
   "cell_type": "code",
   "execution_count": null,
   "metadata": {},
   "outputs": [],
   "source": []
  },
  {
   "cell_type": "code",
   "execution_count": null,
   "metadata": {},
   "outputs": [],
   "source": []
  },
  {
   "cell_type": "markdown",
   "metadata": {
    "toc-hr-collapsed": true
   },
   "source": [
    "### Pull Request\n",
    "\n",
    "* create pull request in GitHub Web interface (the link is then shown in the terminal)\n",
    "\n",
    "* during PR review phase, make more local changes if needed\n",
    "\n",
    "```bash\n",
    "git add .\n",
    "git commit -m 'my second change'\n",
    "git push origin feature_branch_name\n",
    "# ..... will be added to existing pull request\n",
    "```\n",
    "\n",
    "* NOTE: for different pull requests, simply create different feature branches.\n"
   ]
  },
  {
   "cell_type": "markdown",
   "metadata": {},
   "source": [
    "## **Keep your local source code up to date**\n",
    "\n",
    "[from ​https://github.com/OSGeo/gdal/blob/master/CONTRIBUTING.md#working-with-a-feature-branch]\n",
    "\n",
    "You may need to resynchronize against master if you need some bugfix or new capability that has been added since you created your branch\n"
   ]
  },
  {
   "cell_type": "markdown",
   "metadata": {},
   "source": [
    "### `git rebase`\n",
    "```bash\n",
    "# assuming that \"upstream\" points to org/repository\n",
    "git fetch upstream\n",
    "git rebase upstream/master\n",
    "```\n"
   ]
  },
  {
   "cell_type": "markdown",
   "metadata": {},
   "source": [
    "### `git stash`\n",
    "```bash\n",
    "# if rebase fails with \"error: cannot rebase: You have unstaged changes...\", then move your uncommitted local changes to \"stash\"\n",
    "git stash\n",
    "# now you can rebase\n",
    "git rebase upstream/master\n",
    "# apply your local changes on top\n",
    "git stash apply && git stash pop\n",
    "```\n",
    "\n",
    "Continue do your changes and commit/push them (ideally to a feature branch, see above).\n",
    "\n"
   ]
  },
  {
   "cell_type": "markdown",
   "metadata": {
    "toc-hr-collapsed": true
   },
   "source": [
    "## Working on private repository\n",
    "\n",
    "Assuming you are working on your own repository, then direct can be used (instead of forking and PR):\n",
    "\n",
    "### One time only:\n",
    "\n",
    "```bash\n",
    "# \"origin\" points to your repo - no fork needed\n",
    "git clone git@github.com:your_GH_account/repository.git\n",
    "```\n",
    "\n",
    "### **Work with git:**\n",
    "\n",
    "```bash\n",
    "# <make local source code changes>\n",
    "vim ...\n",
    "\n",
    "# list local changes\n",
    "git status\n",
    "git add file1.c file2.py ...\n",
    "git commit -m 'my change with reasonable explanation...'\n",
    "\n",
    "# assuming that \"origin\" points to your_git_account/repository\n",
    "git fetch origin\n",
    "# IMPORTANT - ALWAYS REBASE IN ORDER TO AVOID NOT NEEDED MERGE COMMITS (!!!)\n",
    "git rebase origin/master\n",
    "\n",
    "# push feature branch to origin, i.e. directly to your_git_account/repository\n",
    "git push origin\n",
    "```\n",
    "\n",
    "#### **Switching between branches**\n",
    "For an elegant way of multi-branches in separate directories with only a single repo clone, see\n",
    "\n",
    "* https://lists.osgeo.org/pipermail/grass-dev/2019-May/092653.html\n",
    "\n",
    "* Fixing bugs in a release branch\n",
    "\n",
    "To directly fix bugs (ideally via feature branch), do\n",
    "\n",
    "```bash\n",
    "# push to release_branch, we assume it to be checked out\n",
    "\n",
    "# M_m (Major, minor version number: i.e.: V 1.3)\n",
    "cd releasebranch_M_m/\n",
    "# be sure to locally have all updates from server\n",
    "git fetch --all\n",
    "git branch --merged \n",
    "\n",
    "# create feature branch\n",
    "git checkout -b rMm_fix_xxx\n",
    "\n",
    "# ... do changes...\n",
    "\n",
    "git status\n",
    "git add ...\n",
    "git commit -m 'useful commit msg...'\n",
    "\n",
    "# push to feature branch\n",
    "git push upstream rMm_fix_xxx\n",
    "\n",
    "# create PR in GitHub UI. IMPORTANT: switch there to release_branch_X_Y!\n",
    "\n",
    "# ... after review, merge:\n",
    "\n",
    "# switch to release branch\n",
    "git checkout releasebranch_M_m \n",
    "\n",
    "# be sure to locally have all updates\n",
    "git fetch --all\n",
    "git branch --merged \n",
    "\n",
    "git branch -D changelog_fix_msg_Mm \n",
    "git fetch --all --prune\n",
    "git branch -a\n",
    "```\n",
    "\n",
    "#### **Backporting to release branches**\n",
    "* **Preparation**\n",
    "If you checked out the release branch into a separate directory, be sure to have \"upstream\" enabled as a remote:\n",
    "\n",
    "```bash\n",
    "git remote -v\n",
    "# if upstream is missing, execute\n",
    "git remote add upstream git@github.com:org/repository.git\n",
    "```\n",
    "\n",
    "#### **Backporting of a single commit**\n",
    "\n",
    "```bash\n",
    "git checkout master\n",
    "# With git log, identify the sha1sum of the commit you want to backport (example: into releasebranch_M_m)\n",
    "git log\n",
    "\n",
    "# switch to branch\n",
    "git checkout releasebranch_M_m\n",
    "\n",
    "# first update local repo \n",
    "git pull origin releasebranch_M_m --rebase\n",
    "\n",
    "# now backport the commit (edit conflicts if needed)\n",
    "git cherry-pick the_sha1_sum\n",
    "\n",
    "# push backport to upstream\n",
    "git push upstream releasebranch_M_m\n",
    "```\n",
    "\n",
    "See also ​https://github.com/OSGeo/gdal/blob/master/CONTRIBUTING.md#backporting-bugfixes-from-master-to-a-stable-branch\n",
    "\n",
    "#### **Backporting of a merged pull request from master**\n",
    "Same as \"Backporting of single commits\" but with multiple git cherry-pick .... Importantly, in the right order.\n",
    "\n",
    "TODO: there must be a better way!! \n",
    "\n",
    "#### **Made a mess? Fix it**\n",
    "\n",
    "Example: mess happened on releasebranch_M_m:\n",
    "\n",
    "```bash\n",
    "git reset --hard upstream/releasebranch_M_m \n",
    "git pull upstream releasebranch_M_m --rebase\n",
    "# now all should be clean again\n",
    "```\n",
    "\n",
    "\n",
    "#### **Merging of Pull Requests**\n",
    "\n",
    "Rationale: We should try to have clean history and good commit messages. This helps really a lot when you try to understand why something is implemented the way it is.\n",
    "\n",
    "When a Pull Requests (PR) has multiple commits, the merge commit is more or less mandatory because if you don't have it, you can't use `git revert`.\n",
    "\n",
    "#### **PR with single commit**\n",
    "Proposed: when a PR only has a single commit, the \"merge commit\" doesn't offer anything and it can be avoided by rebasing the feature branch:\n",
    "\n",
    "Workflow: GitHub > button \"Merge pull request\" > \"Rebase and merge\"\n",
    "\n",
    "Next, you may locally delete the feature branch.\n",
    "\n",
    "#### **PR with multiple commits**\n",
    "\n",
    "#### **Proposed**: it is a good idea to try to squash the accumulated commits in a PR before merging, especially if those are trivial fixes.\n",
    "\n",
    "As an example, PRxx contains 5 commits. Esp. in case that several commits of them are trivial fixes that only add noise to the history, \"squashing\" those results in a cleaner history and, among other things, makes it easier to use `git bisect` and `git blame`.\n",
    "\n",
    "Importantly, not always commits of each and every PR need to be squashed before merging. When extensive changes are being made, it often makes sense to keep them unsquashed (e.g. to make reviewing easier), but trivial fixes should still be squashed to the main commits.\n",
    "\n",
    "Further reading\n",
    "Git Cheatsheet: ​http://ndpsoftware.com/git-cheatsheet.html#loc=workspace; (click on a field to see the related git commands)\n",
    "GDAL contributing: ​https://github.com/OSGeo/gdal/blob/master/CONTRIBUTING.md\n",
    "\n",
    "\n",
    "-- Those notes are heavly based on https://trac.osgeo.org/grass/wiki/HowToGit and should be considered as a draft/working-progress starting point on how to make good use of GIT.\n",
    "\n"
   ]
  },
  {
   "cell_type": "markdown",
   "metadata": {},
   "source": [
    "<div id=\"body\">\n",
    "    <center>\n",
    "    <a href=\"08 Conflicts.ipynb\">  <font size=\"4\"> &lt </font></a>\n",
    "    <a href=\"index.ipynb\">  <font size=\"4\"> Version Control with Git </font> </a>\n",
    "    <font size=\"4\"> &gt </font>\n",
    "    </center>\n",
    "</div>"
   ]
  },
  {
   "cell_type": "code",
   "execution_count": null,
   "metadata": {},
   "outputs": [],
   "source": []
  }
 ],
 "metadata": {
  "kernelspec": {
   "display_name": "Bash",
   "language": "bash",
   "name": "bash"
  },
  "language_info": {
   "codemirror_mode": "shell",
   "file_extension": ".sh",
   "mimetype": "text/x-sh",
   "name": "bash"
  },
  "toc-autonumbering": false,
  "toc-showcode": false,
  "toc-showmarkdowntxt": false
 },
 "nbformat": 4,
 "nbformat_minor": 2
}
