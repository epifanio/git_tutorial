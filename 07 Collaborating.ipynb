{
 "cells": [
  {
   "cell_type": "markdown",
   "metadata": {},
   "source": [
    "<div id=\"body\">\n",
    "    <center>\n",
    "    <a href=\"06 Remotes in GitHub.ipynb\">  <font size=\"6\"> &lt; </font></a>\n",
    "    <a href=\"index.ipynb\">  <font size=\"6\"> Version Control with Git </font> </a>\n",
    "    <a href=\"08 Conflicts.ipynb\">  <font size=\"6\"> &gt; </font></a>\n",
    "    </center>\n",
    "</div>"
   ]
  },
  {
   "cell_type": "markdown",
   "metadata": {},
   "source": [
    "# Collaborating"
   ]
  },
  {
   "cell_type": "markdown",
   "metadata": {},
   "source": [
    "##  Questions\n",
    "\n",
    "* How can I use version control to collaborate with other people?\n",
    "\n"
   ]
  },
  {
   "cell_type": "markdown",
   "metadata": {},
   "source": [
    "##  Objectives\n",
    "\n",
    "* Clone a remote repository.\n",
    "* Collaborate by pushing to a common repository.\n",
    "* Describe the basic collaborative workflow.\n",
    "\n"
   ]
  },
  {
   "cell_type": "markdown",
   "metadata": {},
   "source": [
    "For the next step, get into pairs. One person will be the “Owner” and the other will be the “Collaborator”. The goal is that the Collaborator add changes into the Owner’s repository. We will switch roles at the end, so both persons will play Owner and Collaborator."
   ]
  },
  {
   "cell_type": "markdown",
   "metadata": {},
   "source": [
    "<blockquote class=\"note\">\n",
    "  <h2>Practicing By Yourself</h2>\n",
    "    \n",
    "If you’re working through this lesson on your own, you can carry on by opening a second terminal window. This window will represent your partner, working on another computer. You won’t need to give anyone access on GitHub, because both ‘partners’ are you.\n",
    "</blockquote>"
   ]
  },
  {
   "cell_type": "markdown",
   "metadata": {},
   "source": [
    "The Owner needs to give the Collaborator access. On GitHub, click the settings button on the right, then select Collaborators, and enter your partner’s username.\n",
    "\n",
    "<img src=\"static/images/github-add-collaborators.png\">\n",
    "\n",
    "o accept access to the Owner’s repo, the Collaborator needs to go to https://github.com/notifications. Once there she can accept access to the Owner’s repo.\n",
    "\n",
    "Next, the Collaborator needs to download a copy of the Owner’s repository to her machine. This is called “cloning a repo”. To clone the Owner’s repo into her Desktop folder, the Collaborator enters:\n",
    "\n",
    "```\n",
    "git clone https://github.com/epinux/git_tutorial.git ~/Desktop/epinux-git_tutorial\n",
    "```\n",
    "\n",
    "Replace ‘epinux’ with the Owner’s username.\n",
    "\n",
    "<img src=\"static/images/github-collaboration.svg\">"
   ]
  },
  {
   "cell_type": "code",
   "execution_count": 1,
   "metadata": {},
   "outputs": [
    {
     "name": "stdout",
     "output_type": "stream",
     "text": [
      "Cloning into '/home/epinux/Desktop/epinux-git_tutorial'...\n",
      "remote: Enumerating objects: 12, done.\u001b[K\n",
      "remote: Counting objects: 100% (12/12), done.\u001b[K\n",
      "remote: Compressing objects: 100% (7/7), done.\u001b[K\n",
      "remote: Total 12 (delta 1), reused 12 (delta 1), pack-reused 0\u001b[K\n",
      "Unpacking objects: 100% (12/12), done.\n"
     ]
    }
   ],
   "source": [
    "git clone https://github.com/epinux/git_tutorial.git ~/Desktop/epinux-git_tutorial"
   ]
  },
  {
   "cell_type": "markdown",
   "metadata": {},
   "source": [
    "The Collaborator can now make a change in her clone of the Owner’s repository, exactly the same way as we’ve been doing before:\n",
    "\n"
   ]
  },
  {
   "cell_type": "code",
   "execution_count": 4,
   "metadata": {},
   "outputs": [
    {
     "name": "stdout",
     "output_type": "stream",
     "text": [
      "# this is going to be my first contribution\n"
     ]
    }
   ],
   "source": [
    "cd ~/Desktop/epinux-git_tutorial\n",
    "touch newfile.txt\n",
    "echo \"# this is going to be my first contribution\" > newfile.txt\n",
    "cat newfile.txt"
   ]
  },
  {
   "cell_type": "code",
   "execution_count": 6,
   "metadata": {},
   "outputs": [
    {
     "name": "stdout",
     "output_type": "stream",
     "text": [
      "[master 28773e7] Add notes about my first contribution\n",
      " 1 file changed, 1 insertion(+)\n",
      " create mode 100644 newfile.txt\n"
     ]
    }
   ],
   "source": [
    "git add newfile.txt\n",
    "git commit -m \"Add notes about my first contribution\""
   ]
  },
  {
   "cell_type": "markdown",
   "metadata": {},
   "source": [
    "Then push the change to the Owner’s repository on GitHub:"
   ]
  },
  {
   "cell_type": "code",
   "execution_count": 9,
   "metadata": {},
   "outputs": [],
   "source": [
    "# git push origin master"
   ]
  },
  {
   "cell_type": "markdown",
   "metadata": {},
   "source": [
    "**Note:** To run the command above you may need to issue username and password. To do so in a jupyter environment execute the command from a terminal.\n",
    "\n",
    "```bash\n",
    "Enumerating objects: 4, done.\n",
    "Counting objects: 4, done.\n",
    "Delta compression using up to 4 threads.\n",
    "Compressing objects: 100% (2/2), done.\n",
    "Writing objects: 100% (3/3), 306 bytes, done.\n",
    "Total 3 (delta 0), reused 0 (delta 0)\n",
    "To https://github.com/epinux/git_tutorial.git\n",
    "   b324f10..28773e7  master -> master\n",
    "```\n",
    "\n",
    "Note that we didn’t have to create a remote called origin: Git uses this name by default when we clone a repository. (This is why origin was a sensible choice earlier when we were setting up remotes by hand.)"
   ]
  },
  {
   "cell_type": "markdown",
   "metadata": {},
   "source": [
    "<blockquote class=\"note\">\n",
    "  <h2>Some more about remotes</h2>\n",
    "    In this episode and the previous one, our local repository has had a single “remote”, called `origin`. A remote is a copy of the repository that is hosted somewhere else, that we can push to and pull from, and there’s no reason that you have to work with only one. For example, on some large projects you might have your own copy in your own GitHub account (you’d probably call this `origin`) and also the main “upstream” project repository (let’s call this `upstream` for the sake of examples). You would pull from `upstream` from time to time to get the latest updates that other people have committed.\n",
    "\n",
    "    Remember that the name you give to a remote only exists locally. It’s an alias that you choose - whether `origin`, or `upstream`, or `fred` - and not something intrinstic to the remote repository.\n",
    "\n",
    "    The `git remote` family of commands is used to set up and alter the remotes associated with a repository. Here are some of the most useful ones:\n",
    "\n",
    "* `git remote -v` lists all the remotes that are configured (we already used this in the last episode)\n",
    "* `git remote add [name] [url]` is used to add a new remote\n",
    "* `git remote remove [name]` removes a remote. Note that it doesn’t affect the remote repository at all - it just removes the link to it from the local repo.\n",
    "* `git remote set-url [name] [newurl]` changes the URL that is associated with the remote. This is useful if it has moved, e.g. to a different GitHub account, or from GitHub to a different hosting service. Or, if we made a typo when adding it!\n",
    "* `git remote rename [oldname] [newname]` changes the local alias by which a remote is known - its name. For example, one could use this to change `upstream` to fred.\n",
    "\n",
    "</blockquote>\n",
    "\n",
    "Take a look to the Owner’s repository on its GitHub website now (maybe you need to refresh your browser.) You should be able to see the new commit made by the Collaborator.\n",
    "\n",
    "To download the Collaborator’s changes from GitHub, the Owner now enters:\n"
   ]
  },
  {
   "cell_type": "code",
   "execution_count": 10,
   "metadata": {},
   "outputs": [
    {
     "name": "stdout",
     "output_type": "stream",
     "text": [
      "From https://github.com/epinux/git_tutorial\n",
      " * branch            master     -> FETCH_HEAD\n",
      "Already up to date.\n"
     ]
    }
   ],
   "source": [
    "git pull origin master"
   ]
  },
  {
   "cell_type": "markdown",
   "metadata": {},
   "source": [
    "Now the three repositories (Owner’s local, Collaborator’s local, and Owner’s on GitHub) are back in sync."
   ]
  },
  {
   "cell_type": "markdown",
   "metadata": {},
   "source": [
    "<blockquote class=\"note\">\n",
    "  <h2>A Basic Collaborative Workflow</h2>\n",
    "    \n",
    "\n",
    "In practice, it is good to be sure that you have an updated version of the repository you are collaborating on, so you should git pull before making our changes. The basic collaborative workflow would be:\n",
    "\n",
    "* update your local repo with `git pull origin master`,\n",
    "* make your changes and stage them with `git add`,\n",
    "* commit your changes with `git commit -m`, and\n",
    "* upload the changes to GitHub with `git push origin master`\n",
    "\n",
    "It is better to make many commits with smaller changes rather than of one commit with massive changes: small commits are easier to read and review.\n",
    "    \n",
    "</blockquote>"
   ]
  },
  {
   "cell_type": "markdown",
   "metadata": {},
   "source": [
    "<blockquote class=\"note\">\n",
    "  <h2>Review Changes</h2>\n",
    "The Owner pushed commits to the repository without giving any information to the Collaborator. How can the Collaborator find out what has changed with command line? And on GitHub?\n",
    "    \n",
    "* On the command line, the Collaborator can use `git fetch origin master` to get the remote changes into the local repository, but without merging them. Then by running `git diff master origin/master` the Collaborator will see the changes output in the terminal.\n",
    "\n",
    "* On GitHub, the Collaborator can go to their own fork of the repository and look right above the light blue latest commit bar for a gray bar saying “This branch is 1 commit behind Our-Repository:master.” On the far right of that gray bar is a Compare icon and link. On the Compare page the Collaborator should change the base fork to their own repository, then click the link in the paragraph above to “compare across forks”, and finally change the head fork to the main repository. This will show all the commits that are different.\n",
    "</blockquote>"
   ]
  },
  {
   "cell_type": "markdown",
   "metadata": {},
   "source": [
    "<blockquote class=\"note\">\n",
    "  <h2>Comment Changes in GitHub</h2>\n",
    "  \n",
    "The Collaborator has some questions about one line change made by the Owner and has some suggestions to propose.\n",
    "\n",
    "With GitHub, it is possible to comment the diff of a commit. Over the line of code to comment, a blue comment icon appears to open a comment window.\n",
    "\n",
    "The Collaborator posts its comments and suggestions using GitHub interface.\n",
    "</blockquote>"
   ]
  },
  {
   "cell_type": "markdown",
   "metadata": {},
   "source": [
    "<blockquote class=\"keypoints\">\n",
    "  <h2>Key Points</h2>\n",
    "    \n",
    "* `git clone` copies a remote repository to create a local repository with a remote called `origin` automatically set up.\n",
    "</blockquote>\n"
   ]
  },
  {
   "cell_type": "markdown",
   "metadata": {},
   "source": [
    "<div id=\"body\">\n",
    "    <center>\n",
    "    <a href=\"06 Remotes in GitHub.ipynb\">  <font size=\"4\"> &lt; </font></a>\n",
    "    <a href=\"index.ipynb\">  <font size=\"4\"> Version Control with Git </font> </a>\n",
    "    <a href=\"08 Conflicts.ipynb\">  <font size=\"4\"> &gt; </font></a>\n",
    "    </center>\n",
    "</div>"
   ]
  },
  {
   "cell_type": "code",
   "execution_count": null,
   "metadata": {},
   "outputs": [],
   "source": []
  }
 ],
 "metadata": {
  "kernelspec": {
   "display_name": "Bash",
   "language": "bash",
   "name": "bash"
  },
  "language_info": {
   "codemirror_mode": "shell",
   "file_extension": ".sh",
   "mimetype": "text/x-sh",
   "name": "bash"
  }
 },
 "nbformat": 4,
 "nbformat_minor": 2
}
