{
 "cells": [
  {
   "cell_type": "markdown",
   "metadata": {},
   "source": [
    "<div id=\"body\">\n",
    "    <center>\n",
    "    <a href=\"00 Intro.ipynb\">  <font size=\"6\"> &lt; </font></a>\n",
    "    <a href=\"index.ipynb\">  <font size=\"6\"> Version Control with Git </font> </a>\n",
    "    <a href=\"02 Create Repository.ipynb\">  <font size=\"6\"> &gt; </font></a>\n",
    "    </center>\n",
    "</div>"
   ]
  },
  {
   "cell_type": "markdown",
   "metadata": {
    "toc-hr-collapsed": false
   },
   "source": [
    "# **Setting Up Git**"
   ]
  },
  {
   "cell_type": "markdown",
   "metadata": {},
   "source": [
    "## **Questions**\n",
    "* How do I get set up to use Git?\n",
    "\n"
   ]
  },
  {
   "cell_type": "markdown",
   "metadata": {},
   "source": [
    "## **Objectives**\n",
    "* Configure git the first time it is used on a computer.\n",
    "\n",
    "* Understand the meaning of the --global configuration flag.\n",
    "\n",
    "---"
   ]
  },
  {
   "cell_type": "markdown",
   "metadata": {},
   "source": [
    "## **Global Settings**\n",
    "\n",
    "When we use Git on a new computer for the first time, we need to configure a few things. Below are a few examples of configurations we will set as we get started with Git:\n",
    "\n",
    "* **name** and **email** address,\n",
    "\n",
    "   ``` bash\n",
    "   git config --global user.name \"Your full Name\"\n",
    "   git config --global user.email \"your@email\"\n",
    "   ```\n",
    "\n"
   ]
  },
  {
   "cell_type": "markdown",
   "metadata": {},
   "source": [
    "\n",
    "* Preferred **text editor** is,\n",
    "\n",
    "    ```bash\n",
    "    git config --global core.editor \"nano -w\"\n",
    "    ```\n",
    "    &nbsp;\n",
    "    \n",
    "    * [shortcuts](utils/editors.ipynb) to most common editors.\n",
    "    \n",
    "    &nbsp;\n",
    "    \n"
   ]
  },
  {
   "cell_type": "markdown",
   "metadata": {},
   "source": [
    "* **Line Endings** (newlines or line breaks)\n",
    "You can change the way Git recognizes and encodes line endings using the `core.autocrlf` command to `git config`. \n",
    "\n",
    "On *macOS* and *Linux*:\n",
    "\n",
    "   ```bash\n",
    "   git config --global core.autocrlf input\n",
    "   ```\n",
    "\n",
    "And on *Windows*:\n",
    "\n",
    "   ```bash\n",
    "   git config --global core.autocrlf true\n",
    "   ```"
   ]
  },
  {
   "cell_type": "code",
   "execution_count": 1,
   "metadata": {},
   "outputs": [],
   "source": [
    "git config --global user.name \"Massimo Di Stefano\"\n",
    "git config --global user.email \"epiesasha@me.com\"\n",
    "git config --global core.autocrlf input\n",
    "git config --global core.editor \"nano -w\""
   ]
  },
  {
   "cell_type": "markdown",
   "metadata": {},
   "source": [
    "* **Proxy**\n",
    "\n",
    "In some networks you need to use a proxy. If this is the case, you may also need to tell Git about the proxy:\n",
    "\n",
    "   ```bash\n",
    "   git config --global http.proxy proxy-url\n",
    "   git config --global https.proxy proxy-url\n",
    "   ```\n",
    "\n",
    "To disable the proxy, use\n",
    "\n",
    "   ```bash\n",
    "   git config --global --unset http.proxy\n",
    "   git config --global --unset https.proxy\n",
    "   ```"
   ]
  },
  {
   "cell_type": "markdown",
   "metadata": {},
   "source": [
    "* **Git Help and Manual**\n",
    "\n",
    "Always remember that if you forget a `git` command, you can access the list of commands by using `-h` and access the Git manual by using `--help` :\n",
    "\n",
    "   ```bash\n",
    "   git config -h\n",
    "   git config --help\n",
    "   ``` \n",
    "   \n",
    "&nbsp;\n",
    "    \n",
    "The four commands we just ran above only need to be run once: the flag --global tells Git to use the settings for every project, in your user account, on this computer.\n",
    "\n",
    "You can check your settings at any time:\n",
    "\n",
    "   ```bash\n",
    "   git config --list\n",
    "   ```"
   ]
  },
  {
   "cell_type": "code",
   "execution_count": 2,
   "metadata": {},
   "outputs": [
    {
     "name": "stdout",
     "output_type": "stream",
     "text": [
      "user.signingkey=7CFBFC0B586EAB45\n",
      "user.email=epiesasha@me.com\n",
      "user.name=Massimo Di Stefano\n",
      "core.autocrlf=input\n",
      "core.editor=nano -w\n",
      "core.repositoryformatversion=0\n",
      "core.filemode=true\n",
      "core.bare=false\n",
      "core.logallrefupdates=true\n",
      "submodule.active=.\n",
      "remote.origin.url=https://github.com/epifanio/git_tutorial.git\n",
      "remote.origin.fetch=+refs/heads/*:refs/remotes/origin/*\n",
      "branch.master.remote=origin\n",
      "branch.master.merge=refs/heads/master\n"
     ]
    }
   ],
   "source": [
    "git config --list"
   ]
  },
  {
   "cell_type": "markdown",
   "metadata": {},
   "source": [
    "---\n",
    "<blockquote class=\"keypoints\">\n",
    "  <h2>Key Points</h2>\n",
    "\n",
    "* Use `git config` with the `--global` option to configure a user name, email address, editor, and other preferences once per machine.\n",
    "    \n",
    "</blockquote>\n",
    "\n",
    "  "
   ]
  },
  {
   "cell_type": "markdown",
   "metadata": {
    "toc-hr-collapsed": true
   },
   "source": [
    "---\n",
    "<blockquote class=\"References\">\n",
    "  <h2>References</h2>\n",
    "\n",
    "* [A complete list of commands, including useful tips, to Git configuration](https://git-scm.com/book/en/v2/Customizing-Git-Git-Configuration)\n",
    "    \n",
    "</blockquote>\n",
    "\n"
   ]
  },
  {
   "cell_type": "markdown",
   "metadata": {},
   "source": [
    "<div id=\"body\">\n",
    "    <center>\n",
    "    <a href=\"00 Intro.ipynb\">  <font size=\"4\"> &lt; </font></a>\n",
    "    <a href=\"index.ipynb\">  <font size=\"4\"> Version Control with Git </font> </a>\n",
    "    <a href=\"02 Create Repository.ipynb\">  <font size=\"4\"> &gt; </font></a>\n",
    "    </center>\n",
    "</div>"
   ]
  },
  {
   "cell_type": "code",
   "execution_count": null,
   "metadata": {},
   "outputs": [],
   "source": []
  }
 ],
 "metadata": {
  "kernelspec": {
   "display_name": "Bash",
   "language": "bash",
   "name": "bash"
  },
  "language_info": {
   "codemirror_mode": "shell",
   "file_extension": ".sh",
   "mimetype": "text/x-sh",
   "name": "bash"
  }
 },
 "nbformat": 4,
 "nbformat_minor": 2
}
